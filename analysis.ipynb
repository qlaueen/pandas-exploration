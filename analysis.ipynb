{
 "cells": [
  {
   "cell_type": "markdown",
   "metadata": {},
   "source": [
    "# pandas exploration\n",
    "In this assignment you will select a data set and do some munging and analysis of it using `pandas`, Jupyter Notebooks, and associated Python-centric data science tools."
   ]
  },
  {
   "cell_type": "markdown",
   "metadata": {},
   "source": [
    "Import the core data science libraries:"
   ]
  },
  {
   "cell_type": "code",
   "execution_count": 245,
   "metadata": {},
   "outputs": [],
   "source": [
    "%matplotlib inline\n",
    "import matplotlib.pyplot as plt\n",
    "import numpy as np\n",
    "import pandas as pd"
   ]
  },
  {
   "cell_type": "markdown",
   "metadata": {},
   "source": [
    "## Import the raw data\n",
    "In this section, you will import the raw data into a `pandas` DataFrame."
   ]
  },
  {
   "cell_type": "code",
   "execution_count": 246,
   "metadata": {},
   "outputs": [],
   "source": [
    "df = pd.read_csv('data/data.csv')\n",
    "df2 = pd.read_csv('data/data.csv')"
   ]
  },
  {
   "cell_type": "markdown",
   "metadata": {},
   "source": [
    "## Data inspection\n",
    "In this section, you will show enough of your data for a viewer to get a general sense of how the data is structured and any unique features of it.  Complete each of the indicated tasks in a Code cell, making sure to include a Markdown cell above each Code cell that explains what is being shown by the code.  \n",
    "- Show 5 rows, selected at random, from the data set.\n",
    "- Show each of the column names and their data types.\n",
    "- Show any unique features of your chosen data set.\n",
    "\n",
    "Feel free to add as many additional cells as you need to help explain the raw data."
   ]
  },
  {
   "cell_type": "markdown",
   "metadata": {},
   "source": [
    "- Show 5 rows, selected at random, from the data set."
   ]
  },
  {
   "cell_type": "code",
   "execution_count": 247,
   "metadata": {},
   "outputs": [
    {
     "data": {
      "text/html": [
       "<div>\n",
       "<style scoped>\n",
       "    .dataframe tbody tr th:only-of-type {\n",
       "        vertical-align: middle;\n",
       "    }\n",
       "\n",
       "    .dataframe tbody tr th {\n",
       "        vertical-align: top;\n",
       "    }\n",
       "\n",
       "    .dataframe thead th {\n",
       "        text-align: right;\n",
       "    }\n",
       "</style>\n",
       "<table border=\"1\" class=\"dataframe\">\n",
       "  <thead>\n",
       "    <tr style=\"text-align: right;\">\n",
       "      <th></th>\n",
       "      <th>Species Common Name</th>\n",
       "      <th>Scientific Name</th>\n",
       "      <th>TaxonClass</th>\n",
       "      <th>Overall Sample Size</th>\n",
       "      <th>Overall MLE</th>\n",
       "      <th>Overall CI - lower</th>\n",
       "      <th>Overall CI - upper</th>\n",
       "      <th>Male Sample Size</th>\n",
       "      <th>Male MLE</th>\n",
       "      <th>Male CI - lower</th>\n",
       "      <th>Male CI - upper</th>\n",
       "      <th>Female Sample Size</th>\n",
       "      <th>Female MLE</th>\n",
       "      <th>Female CI - lower</th>\n",
       "      <th>Female CI - upper</th>\n",
       "      <th>Male Data Deficient</th>\n",
       "      <th>Female Data Deficient</th>\n",
       "    </tr>\n",
       "  </thead>\n",
       "  <tbody>\n",
       "    <tr>\n",
       "      <th>277</th>\n",
       "      <td>Stork, Saddle-billed</td>\n",
       "      <td>Ephippiorhynchus senegalensis</td>\n",
       "      <td>Aves</td>\n",
       "      <td>123.0</td>\n",
       "      <td>12.9</td>\n",
       "      <td>8.0</td>\n",
       "      <td>19.5</td>\n",
       "      <td>60.0</td>\n",
       "      <td>11.3</td>\n",
       "      <td>5.2</td>\n",
       "      <td>21.1</td>\n",
       "      <td>63.0</td>\n",
       "      <td>16.3</td>\n",
       "      <td>5.4</td>\n",
       "      <td>19.5</td>\n",
       "      <td>yes</td>\n",
       "      <td>yes</td>\n",
       "    </tr>\n",
       "    <tr>\n",
       "      <th>138</th>\n",
       "      <td>Ibex, Nubian</td>\n",
       "      <td>Capra nubiana</td>\n",
       "      <td>Mammalia</td>\n",
       "      <td>629.0</td>\n",
       "      <td>9.6</td>\n",
       "      <td>7.8</td>\n",
       "      <td>10.1</td>\n",
       "      <td>277.0</td>\n",
       "      <td>9.1</td>\n",
       "      <td>6.7</td>\n",
       "      <td>10.4</td>\n",
       "      <td>351.0</td>\n",
       "      <td>9.6</td>\n",
       "      <td>7.9</td>\n",
       "      <td>10.6</td>\n",
       "      <td>NaN</td>\n",
       "      <td>NaN</td>\n",
       "    </tr>\n",
       "    <tr>\n",
       "      <th>194</th>\n",
       "      <td>Monkey, SchmidtÕs Red-tailed</td>\n",
       "      <td>Cercopithecus ascanius schmidti</td>\n",
       "      <td>Mammalia</td>\n",
       "      <td>187.0</td>\n",
       "      <td>16.0</td>\n",
       "      <td>13.8</td>\n",
       "      <td>18.3</td>\n",
       "      <td>82.0</td>\n",
       "      <td>14.3</td>\n",
       "      <td>11.5</td>\n",
       "      <td>20.0</td>\n",
       "      <td>99.0</td>\n",
       "      <td>16.8</td>\n",
       "      <td>14.2</td>\n",
       "      <td>18.3</td>\n",
       "      <td>NaN</td>\n",
       "      <td>NaN</td>\n",
       "    </tr>\n",
       "    <tr>\n",
       "      <th>165</th>\n",
       "      <td>Lemur, Mongoose</td>\n",
       "      <td>Eulemur mongoz</td>\n",
       "      <td>Mammalia</td>\n",
       "      <td>161.0</td>\n",
       "      <td>22.8</td>\n",
       "      <td>21.4</td>\n",
       "      <td>26.6</td>\n",
       "      <td>83.0</td>\n",
       "      <td>25.1</td>\n",
       "      <td>20.1</td>\n",
       "      <td>30.3</td>\n",
       "      <td>78.0</td>\n",
       "      <td>22.3</td>\n",
       "      <td>19.5</td>\n",
       "      <td>26.6</td>\n",
       "      <td>yes</td>\n",
       "      <td>yes</td>\n",
       "    </tr>\n",
       "    <tr>\n",
       "      <th>76</th>\n",
       "      <td>Dove, Black-naped Fruit</td>\n",
       "      <td>Ptilinopus melanospilus</td>\n",
       "      <td>Aves</td>\n",
       "      <td>330.0</td>\n",
       "      <td>6.5</td>\n",
       "      <td>5.2</td>\n",
       "      <td>7.3</td>\n",
       "      <td>178.0</td>\n",
       "      <td>6.1</td>\n",
       "      <td>4.5</td>\n",
       "      <td>7.3</td>\n",
       "      <td>150.0</td>\n",
       "      <td>7.0</td>\n",
       "      <td>5.2</td>\n",
       "      <td>8.8</td>\n",
       "      <td>NaN</td>\n",
       "      <td>NaN</td>\n",
       "    </tr>\n",
       "  </tbody>\n",
       "</table>\n",
       "</div>"
      ],
      "text/plain": [
       "              Species Common Name                  Scientific Name TaxonClass  \\\n",
       "277          Stork, Saddle-billed    Ephippiorhynchus senegalensis       Aves   \n",
       "138                  Ibex, Nubian                    Capra nubiana   Mammalia   \n",
       "194  Monkey, SchmidtÕs Red-tailed  Cercopithecus ascanius schmidti   Mammalia   \n",
       "165               Lemur, Mongoose                   Eulemur mongoz   Mammalia   \n",
       "76        Dove, Black-naped Fruit          Ptilinopus melanospilus       Aves   \n",
       "\n",
       "     Overall Sample Size  Overall MLE  Overall CI - lower  Overall CI - upper  \\\n",
       "277                123.0         12.9                 8.0                19.5   \n",
       "138                629.0          9.6                 7.8                10.1   \n",
       "194                187.0         16.0                13.8                18.3   \n",
       "165                161.0         22.8                21.4                26.6   \n",
       "76                 330.0          6.5                 5.2                 7.3   \n",
       "\n",
       "     Male Sample Size  Male MLE  Male CI - lower  Male CI - upper  \\\n",
       "277              60.0      11.3              5.2             21.1   \n",
       "138             277.0       9.1              6.7             10.4   \n",
       "194              82.0      14.3             11.5             20.0   \n",
       "165              83.0      25.1             20.1             30.3   \n",
       "76              178.0       6.1              4.5              7.3   \n",
       "\n",
       "     Female Sample Size  Female MLE  Female CI - lower Female CI - upper  \\\n",
       "277                63.0        16.3                5.4              19.5   \n",
       "138               351.0         9.6                7.9              10.6   \n",
       "194                99.0        16.8               14.2              18.3   \n",
       "165                78.0        22.3               19.5              26.6   \n",
       "76                150.0         7.0                5.2               8.8   \n",
       "\n",
       "    Male Data Deficient Female Data Deficient  \n",
       "277                 yes                   yes  \n",
       "138                 NaN                   NaN  \n",
       "194                 NaN                   NaN  \n",
       "165                 yes                   yes  \n",
       "76                  NaN                   NaN  "
      ]
     },
     "execution_count": 247,
     "metadata": {},
     "output_type": "execute_result"
    }
   ],
   "source": [
    "df.sample(n=5)"
   ]
  },
  {
   "cell_type": "markdown",
   "metadata": {},
   "source": [
    "- Show each of the column names and their data types."
   ]
  },
  {
   "cell_type": "code",
   "execution_count": 248,
   "metadata": {},
   "outputs": [
    {
     "data": {
      "text/plain": [
       "Species Common Name       object\n",
       "Scientific Name           object\n",
       "TaxonClass                object\n",
       "Overall Sample Size      float64\n",
       "Overall MLE              float64\n",
       "Overall CI - lower       float64\n",
       "Overall CI - upper       float64\n",
       "Male Sample Size         float64\n",
       "Male MLE                 float64\n",
       "Male CI - lower          float64\n",
       "Male CI - upper          float64\n",
       "Female Sample Size       float64\n",
       "Female MLE               float64\n",
       "Female CI - lower        float64\n",
       "Female CI - upper         object\n",
       "Male Data Deficient       object\n",
       "Female Data Deficient     object\n",
       "dtype: object"
      ]
     },
     "execution_count": 248,
     "metadata": {},
     "output_type": "execute_result"
    }
   ],
   "source": [
    "animals = [tuple(r) for r in df.to_numpy()]\n",
    "df = pd.DataFrame(animals, columns=['Species Common Name', 'Scientific Name', 'TaxonClass', 'Overall Sample Size', 'Overall MLE', 'Overall CI - lower', 'Overall CI - upper', 'Male Sample Size', 'Male MLE', 'Male CI - lower', 'Male CI - upper', 'Female Sample Size', 'Female MLE', 'Female CI - lower', 'Female CI - upper', 'Male Data Deficient', 'Female Data Deficient'])\n",
    "datatypes = df.dtypes\n",
    "datatypes"
   ]
  },
  {
   "cell_type": "markdown",
   "metadata": {},
   "source": [
    "- Show any unique features of your chosen data set."
   ]
  },
  {
   "cell_type": "markdown",
   "metadata": {},
   "source": [
    "I chose to show all the columns from the data set."
   ]
  },
  {
   "cell_type": "code",
   "execution_count": 251,
   "metadata": {},
   "outputs": [
    {
     "data": {
      "text/plain": [
       "Index(['Species Common Name', 'Scientific Name', 'TaxonClass',\n",
       "       'Overall Sample Size', 'Overall MLE', 'Overall CI - lower',\n",
       "       'Overall CI - upper', 'Male Sample Size', 'Male MLE', 'Male CI - lower',\n",
       "       'Male CI - upper', 'Female Sample Size', 'Female MLE',\n",
       "       'Female CI - lower', 'Female CI - upper', 'Male Data Deficient',\n",
       "       'Female Data Deficient'],\n",
       "      dtype='object')"
      ]
     },
     "execution_count": 251,
     "metadata": {},
     "output_type": "execute_result"
    }
   ],
   "source": [
    "df.keys()"
   ]
  },
  {
   "cell_type": "markdown",
   "metadata": {},
   "source": [
    "## Data munging\n",
    "Place your **data munging** code and documentation within this section.  \n",
    "- Keep each of your Code cells short and focused on a single task.  \n",
    "- Include a Markdown cell above each code cell that describes what task the code within the code cell is performing.\n",
    "- Make as many code cells as you need to complete the munging - a few have been created for you to start with.\n",
    "- Display 5 sample rows of the modified data after each transformation so a viewer can see how the data has changed.\n",
    "\n",
    "**Note**: If you believe that your data set does not require any munging, please explain in detail.  Create Markdown cells that explain your thinking and create Code cells that show any specific structures of the data you refer to in your explanation."
   ]
  },
  {
   "cell_type": "markdown",
   "metadata": {},
   "source": [
    "The data was very clean already. What I had to fix was some special characters that were not converted correctly and were corrupting the Species Common Names."
   ]
  },
  {
   "cell_type": "code",
   "execution_count": null,
   "metadata": {},
   "outputs": [
    {
     "name": "stdout",
     "output_type": "stream",
     "text": [
      "Deer, Père David's\n",
      "Monkey, Schmidt's Red-tailed\n",
      "Wallaby, Bennett's\n",
      "Argusianus argus\n",
      "Heloderma horridum exasperatum\n"
     ]
    }
   ],
   "source": [
    "df['Species Common Name'] = df['Species Common Name'].str.replace('�','è')\n",
    "df['Species Common Name'] = df['Species Common Name'].str.replace('Õ','\\'')\n",
    "df['Scientific Name'] = df['Scientific Name'].str.replace('Ê','')\n",
    "print(df.loc[68,'Species Common Name'])\n",
    "print(df.loc[194,'Species Common Name'])\n",
    "print(df.loc[315,'Species Common Name'])\n",
    "print(df.loc[8,'Scientific Name'])\n",
    "print(df.loc[173,'Scientific Name'])"
   ]
  },
  {
   "cell_type": "markdown",
   "metadata": {},
   "source": [
    "## Data analysis\n",
    "Place your **data analysis** code and documentation within this section.\n",
    "- Perform at least 5 different statistical or other analyses of different aspects of the data.\n",
    "    - Your analyses must be specific and relevant to your chosen data set and show interesting aspects of it.\n",
    "    - Include at least one analysis that includes grouping rows by a shared attribute and performing some kind of statistical analysis on each group.\n",
    "    - Sort the data in at least 1 of your analyses, but sort on its own does not constitute an analysis on its own.\n",
    "- Keep each of your Code cells short and focused on a single task.\n",
    "- Include a Markdown cell above each Code cell that describes what task the code within the Code cell is performing.\n",
    "- Make as many code cells as you need to complete the analysis - a few have been created for you to start with."
   ]
  },
  {
   "cell_type": "markdown",
   "metadata": {},
   "source": [
    "The first statistical analysis performed was just to show the names of the animals and their corresponding overall, female and male median life expectancy."
   ]
  },
  {
   "cell_type": "code",
   "execution_count": null,
   "metadata": {},
   "outputs": [
    {
     "data": {
      "text/html": [
       "<div>\n",
       "<style scoped>\n",
       "    .dataframe tbody tr th:only-of-type {\n",
       "        vertical-align: middle;\n",
       "    }\n",
       "\n",
       "    .dataframe tbody tr th {\n",
       "        vertical-align: top;\n",
       "    }\n",
       "\n",
       "    .dataframe thead th {\n",
       "        text-align: right;\n",
       "    }\n",
       "</style>\n",
       "<table border=\"1\" class=\"dataframe\">\n",
       "  <thead>\n",
       "    <tr style=\"text-align: right;\">\n",
       "      <th></th>\n",
       "      <th>Species Common Name</th>\n",
       "      <th>Overall MLE</th>\n",
       "      <th>Male MLE</th>\n",
       "      <th>Female MLE</th>\n",
       "      <th>TaxonClass</th>\n",
       "    </tr>\n",
       "  </thead>\n",
       "  <tbody>\n",
       "    <tr>\n",
       "      <th>0</th>\n",
       "      <td>Addax</td>\n",
       "      <td>13.4</td>\n",
       "      <td>12.3</td>\n",
       "      <td>14.4</td>\n",
       "      <td>Mammalia</td>\n",
       "    </tr>\n",
       "    <tr>\n",
       "      <th>1</th>\n",
       "      <td>Agouti, Brazilian</td>\n",
       "      <td>8.1</td>\n",
       "      <td>8.8</td>\n",
       "      <td>7.8</td>\n",
       "      <td>Mammalia</td>\n",
       "    </tr>\n",
       "    <tr>\n",
       "      <th>2</th>\n",
       "      <td>Alligator, Chinese</td>\n",
       "      <td>30.9</td>\n",
       "      <td>25.9</td>\n",
       "      <td>32.8</td>\n",
       "      <td>Reptilia</td>\n",
       "    </tr>\n",
       "    <tr>\n",
       "      <th>3</th>\n",
       "      <td>Anoa, Lowland</td>\n",
       "      <td>17.7</td>\n",
       "      <td>16.3</td>\n",
       "      <td>18.8</td>\n",
       "      <td>Mammalia</td>\n",
       "    </tr>\n",
       "    <tr>\n",
       "      <th>4</th>\n",
       "      <td>Anteater, Giant</td>\n",
       "      <td>19.7</td>\n",
       "      <td>19.4</td>\n",
       "      <td>19.7</td>\n",
       "      <td>Mammalia</td>\n",
       "    </tr>\n",
       "    <tr>\n",
       "      <th>...</th>\n",
       "      <td>...</td>\n",
       "      <td>...</td>\n",
       "      <td>...</td>\n",
       "      <td>...</td>\n",
       "      <td>...</td>\n",
       "    </tr>\n",
       "    <tr>\n",
       "      <th>325</th>\n",
       "      <td>Woodhoopoe, Green</td>\n",
       "      <td>5.4</td>\n",
       "      <td>6.0</td>\n",
       "      <td>4.3</td>\n",
       "      <td>Aves</td>\n",
       "    </tr>\n",
       "    <tr>\n",
       "      <th>326</th>\n",
       "      <td>Wood-partridge, Crested</td>\n",
       "      <td>4.8</td>\n",
       "      <td>5.0</td>\n",
       "      <td>4.7</td>\n",
       "      <td>Aves</td>\n",
       "    </tr>\n",
       "    <tr>\n",
       "      <th>327</th>\n",
       "      <td>Zebra, Grevy's</td>\n",
       "      <td>14.1</td>\n",
       "      <td>11.2</td>\n",
       "      <td>16.5</td>\n",
       "      <td>Mammalia</td>\n",
       "    </tr>\n",
       "    <tr>\n",
       "      <th>328</th>\n",
       "      <td>Zebra, Hartmann's Mountain</td>\n",
       "      <td>13.9</td>\n",
       "      <td>12.3</td>\n",
       "      <td>15.4</td>\n",
       "      <td>Mammalia</td>\n",
       "    </tr>\n",
       "    <tr>\n",
       "      <th>329</th>\n",
       "      <td>Zebra, Plains</td>\n",
       "      <td>15.6</td>\n",
       "      <td>14.0</td>\n",
       "      <td>16.0</td>\n",
       "      <td>Mammalia</td>\n",
       "    </tr>\n",
       "  </tbody>\n",
       "</table>\n",
       "<p>330 rows × 5 columns</p>\n",
       "</div>"
      ],
      "text/plain": [
       "            Species Common Name  Overall MLE  Male MLE  Female MLE TaxonClass\n",
       "0                         Addax         13.4      12.3        14.4   Mammalia\n",
       "1             Agouti, Brazilian          8.1       8.8         7.8   Mammalia\n",
       "2            Alligator, Chinese         30.9      25.9        32.8   Reptilia\n",
       "3                 Anoa, Lowland         17.7      16.3        18.8   Mammalia\n",
       "4               Anteater, Giant         19.7      19.4        19.7   Mammalia\n",
       "..                          ...          ...       ...         ...        ...\n",
       "325           Woodhoopoe, Green          5.4       6.0         4.3       Aves\n",
       "326     Wood-partridge, Crested          4.8       5.0         4.7       Aves\n",
       "327              Zebra, Grevy's         14.1      11.2        16.5   Mammalia\n",
       "328  Zebra, Hartmann's Mountain         13.9      12.3        15.4   Mammalia\n",
       "329               Zebra, Plains         15.6      14.0        16.0   Mammalia\n",
       "\n",
       "[330 rows x 5 columns]"
      ]
     },
     "execution_count": 231,
     "metadata": {},
     "output_type": "execute_result"
    }
   ],
   "source": [
    "df = df[ ['Species Common Name', 'Overall MLE', 'Male MLE', 'Female MLE', 'TaxonClass'] ]\n",
    "df"
   ]
  },
  {
   "cell_type": "markdown",
   "metadata": {},
   "source": [
    "This statistical analysis shows the species common names of the animals who have their male median life expectancy higher than the mean, which is 13."
   ]
  },
  {
   "cell_type": "code",
   "execution_count": null,
   "metadata": {},
   "outputs": [
    {
     "data": {
      "text/html": [
       "<div>\n",
       "<style scoped>\n",
       "    .dataframe tbody tr th:only-of-type {\n",
       "        vertical-align: middle;\n",
       "    }\n",
       "\n",
       "    .dataframe tbody tr th {\n",
       "        vertical-align: top;\n",
       "    }\n",
       "\n",
       "    .dataframe thead th {\n",
       "        text-align: right;\n",
       "    }\n",
       "</style>\n",
       "<table border=\"1\" class=\"dataframe\">\n",
       "  <thead>\n",
       "    <tr style=\"text-align: right;\">\n",
       "      <th></th>\n",
       "      <th>Species Common Name</th>\n",
       "      <th>Overall MLE</th>\n",
       "      <th>Male MLE</th>\n",
       "      <th>Female MLE</th>\n",
       "      <th>TaxonClass</th>\n",
       "    </tr>\n",
       "  </thead>\n",
       "  <tbody>\n",
       "    <tr>\n",
       "      <th>2</th>\n",
       "      <td>Alligator, Chinese</td>\n",
       "      <td>30.9</td>\n",
       "      <td>25.9</td>\n",
       "      <td>32.8</td>\n",
       "      <td>Reptilia</td>\n",
       "    </tr>\n",
       "    <tr>\n",
       "      <th>3</th>\n",
       "      <td>Anoa, Lowland</td>\n",
       "      <td>17.7</td>\n",
       "      <td>16.3</td>\n",
       "      <td>18.8</td>\n",
       "      <td>Mammalia</td>\n",
       "    </tr>\n",
       "    <tr>\n",
       "      <th>4</th>\n",
       "      <td>Anteater, Giant</td>\n",
       "      <td>19.7</td>\n",
       "      <td>19.4</td>\n",
       "      <td>19.7</td>\n",
       "      <td>Mammalia</td>\n",
       "    </tr>\n",
       "    <tr>\n",
       "      <th>9</th>\n",
       "      <td>Armadillo, Southern Three-banded</td>\n",
       "      <td>17.6</td>\n",
       "      <td>16.4</td>\n",
       "      <td>18.7</td>\n",
       "      <td>Mammalia</td>\n",
       "    </tr>\n",
       "    <tr>\n",
       "      <th>10</th>\n",
       "      <td>Baboon, Hamadryas</td>\n",
       "      <td>27.3</td>\n",
       "      <td>27.2</td>\n",
       "      <td>27.5</td>\n",
       "      <td>Mammalia</td>\n",
       "    </tr>\n",
       "    <tr>\n",
       "      <th>...</th>\n",
       "      <td>...</td>\n",
       "      <td>...</td>\n",
       "      <td>...</td>\n",
       "      <td>...</td>\n",
       "      <td>...</td>\n",
       "    </tr>\n",
       "    <tr>\n",
       "      <th>296</th>\n",
       "      <td>Tiger, Malayan</td>\n",
       "      <td>16.1</td>\n",
       "      <td>16.1</td>\n",
       "      <td>14.5</td>\n",
       "      <td>Mammalia</td>\n",
       "    </tr>\n",
       "    <tr>\n",
       "      <th>297</th>\n",
       "      <td>Tiger, Sumatran</td>\n",
       "      <td>18.4</td>\n",
       "      <td>18.2</td>\n",
       "      <td>18.8</td>\n",
       "      <td>Mammalia</td>\n",
       "    </tr>\n",
       "    <tr>\n",
       "      <th>309</th>\n",
       "      <td>Turaco, Violaceous</td>\n",
       "      <td>14.1</td>\n",
       "      <td>15.7</td>\n",
       "      <td>11.8</td>\n",
       "      <td>Aves</td>\n",
       "    </tr>\n",
       "    <tr>\n",
       "      <th>311</th>\n",
       "      <td>Turtle, Coahuilan Box</td>\n",
       "      <td>14.6</td>\n",
       "      <td>14.5</td>\n",
       "      <td>14.9</td>\n",
       "      <td>Reptilia</td>\n",
       "    </tr>\n",
       "    <tr>\n",
       "      <th>329</th>\n",
       "      <td>Zebra, Plains</td>\n",
       "      <td>15.6</td>\n",
       "      <td>14.0</td>\n",
       "      <td>16.0</td>\n",
       "      <td>Mammalia</td>\n",
       "    </tr>\n",
       "  </tbody>\n",
       "</table>\n",
       "<p>137 rows × 5 columns</p>\n",
       "</div>"
      ],
      "text/plain": [
       "                  Species Common Name  Overall MLE  Male MLE  Female MLE  \\\n",
       "2                  Alligator, Chinese         30.9      25.9        32.8   \n",
       "3                       Anoa, Lowland         17.7      16.3        18.8   \n",
       "4                     Anteater, Giant         19.7      19.4        19.7   \n",
       "9    Armadillo, Southern Three-banded         17.6      16.4        18.7   \n",
       "10                  Baboon, Hamadryas         27.3      27.2        27.5   \n",
       "..                                ...          ...       ...         ...   \n",
       "296                    Tiger, Malayan         16.1      16.1        14.5   \n",
       "297                   Tiger, Sumatran         18.4      18.2        18.8   \n",
       "309                Turaco, Violaceous         14.1      15.7        11.8   \n",
       "311             Turtle, Coahuilan Box         14.6      14.5        14.9   \n",
       "329                     Zebra, Plains         15.6      14.0        16.0   \n",
       "\n",
       "    TaxonClass  \n",
       "2     Reptilia  \n",
       "3     Mammalia  \n",
       "4     Mammalia  \n",
       "9     Mammalia  \n",
       "10    Mammalia  \n",
       "..         ...  \n",
       "296   Mammalia  \n",
       "297   Mammalia  \n",
       "309       Aves  \n",
       "311   Reptilia  \n",
       "329   Mammalia  \n",
       "\n",
       "[137 rows x 5 columns]"
      ]
     },
     "execution_count": 232,
     "metadata": {},
     "output_type": "execute_result"
    }
   ],
   "source": [
    "df[df[\"Male MLE\"] > 13]"
   ]
  },
  {
   "cell_type": "markdown",
   "metadata": {},
   "source": [
    "This statistical analysis shows the main features of the dataset."
   ]
  },
  {
   "cell_type": "code",
   "execution_count": null,
   "metadata": {},
   "outputs": [
    {
     "data": {
      "text/html": [
       "<div>\n",
       "<style scoped>\n",
       "    .dataframe tbody tr th:only-of-type {\n",
       "        vertical-align: middle;\n",
       "    }\n",
       "\n",
       "    .dataframe tbody tr th {\n",
       "        vertical-align: top;\n",
       "    }\n",
       "\n",
       "    .dataframe thead th {\n",
       "        text-align: right;\n",
       "    }\n",
       "</style>\n",
       "<table border=\"1\" class=\"dataframe\">\n",
       "  <thead>\n",
       "    <tr style=\"text-align: right;\">\n",
       "      <th></th>\n",
       "      <th>Overall MLE</th>\n",
       "      <th>Male MLE</th>\n",
       "      <th>Female MLE</th>\n",
       "    </tr>\n",
       "  </thead>\n",
       "  <tbody>\n",
       "    <tr>\n",
       "      <th>count</th>\n",
       "      <td>328.000000</td>\n",
       "      <td>324.000000</td>\n",
       "      <td>326.00000</td>\n",
       "    </tr>\n",
       "    <tr>\n",
       "      <th>mean</th>\n",
       "      <td>13.404878</td>\n",
       "      <td>13.391049</td>\n",
       "      <td>13.45184</td>\n",
       "    </tr>\n",
       "    <tr>\n",
       "      <th>std</th>\n",
       "      <td>7.527497</td>\n",
       "      <td>7.463315</td>\n",
       "      <td>7.83753</td>\n",
       "    </tr>\n",
       "    <tr>\n",
       "      <th>min</th>\n",
       "      <td>2.400000</td>\n",
       "      <td>2.600000</td>\n",
       "      <td>2.40000</td>\n",
       "    </tr>\n",
       "    <tr>\n",
       "      <th>25%</th>\n",
       "      <td>7.800000</td>\n",
       "      <td>7.900000</td>\n",
       "      <td>7.42500</td>\n",
       "    </tr>\n",
       "    <tr>\n",
       "      <th>50%</th>\n",
       "      <td>12.050000</td>\n",
       "      <td>11.550000</td>\n",
       "      <td>11.80000</td>\n",
       "    </tr>\n",
       "    <tr>\n",
       "      <th>75%</th>\n",
       "      <td>16.625000</td>\n",
       "      <td>17.300000</td>\n",
       "      <td>16.57500</td>\n",
       "    </tr>\n",
       "    <tr>\n",
       "      <th>max</th>\n",
       "      <td>47.000000</td>\n",
       "      <td>51.300000</td>\n",
       "      <td>43.30000</td>\n",
       "    </tr>\n",
       "  </tbody>\n",
       "</table>\n",
       "</div>"
      ],
      "text/plain": [
       "       Overall MLE    Male MLE  Female MLE\n",
       "count   328.000000  324.000000   326.00000\n",
       "mean     13.404878   13.391049    13.45184\n",
       "std       7.527497    7.463315     7.83753\n",
       "min       2.400000    2.600000     2.40000\n",
       "25%       7.800000    7.900000     7.42500\n",
       "50%      12.050000   11.550000    11.80000\n",
       "75%      16.625000   17.300000    16.57500\n",
       "max      47.000000   51.300000    43.30000"
      ]
     },
     "execution_count": 233,
     "metadata": {},
     "output_type": "execute_result"
    }
   ],
   "source": [
    "df.describe()"
   ]
  },
  {
   "cell_type": "markdown",
   "metadata": {},
   "source": [
    "This statistical analysis groups the animals by their taxonomy class, and sorts the values in descending order by the overall median life expectancy."
   ]
  },
  {
   "cell_type": "code",
   "execution_count": null,
   "metadata": {},
   "outputs": [
    {
     "data": {
      "text/html": [
       "<div>\n",
       "<style scoped>\n",
       "    .dataframe tbody tr th:only-of-type {\n",
       "        vertical-align: middle;\n",
       "    }\n",
       "\n",
       "    .dataframe tbody tr th {\n",
       "        vertical-align: top;\n",
       "    }\n",
       "\n",
       "    .dataframe thead th {\n",
       "        text-align: right;\n",
       "    }\n",
       "</style>\n",
       "<table border=\"1\" class=\"dataframe\">\n",
       "  <thead>\n",
       "    <tr style=\"text-align: right;\">\n",
       "      <th></th>\n",
       "      <th>Overall MLE</th>\n",
       "      <th>Male MLE</th>\n",
       "      <th>Female MLE</th>\n",
       "    </tr>\n",
       "    <tr>\n",
       "      <th>TaxonClass</th>\n",
       "      <th></th>\n",
       "      <th></th>\n",
       "      <th></th>\n",
       "    </tr>\n",
       "  </thead>\n",
       "  <tbody>\n",
       "    <tr>\n",
       "      <th>Chondrichthyes</th>\n",
       "      <td>16.400000</td>\n",
       "      <td>17.050000</td>\n",
       "      <td>14.200000</td>\n",
       "    </tr>\n",
       "    <tr>\n",
       "      <th>Mammalia</th>\n",
       "      <td>14.711429</td>\n",
       "      <td>14.116860</td>\n",
       "      <td>15.108140</td>\n",
       "    </tr>\n",
       "    <tr>\n",
       "      <th>Aves</th>\n",
       "      <td>12.202419</td>\n",
       "      <td>12.940650</td>\n",
       "      <td>11.873387</td>\n",
       "    </tr>\n",
       "    <tr>\n",
       "      <th>Reptilia</th>\n",
       "      <td>11.628571</td>\n",
       "      <td>11.980952</td>\n",
       "      <td>11.319048</td>\n",
       "    </tr>\n",
       "    <tr>\n",
       "      <th>Amphibia</th>\n",
       "      <td>5.366667</td>\n",
       "      <td>5.533333</td>\n",
       "      <td>5.183333</td>\n",
       "    </tr>\n",
       "    <tr>\n",
       "      <th>Arachnida</th>\n",
       "      <td>NaN</td>\n",
       "      <td>NaN</td>\n",
       "      <td>17.200000</td>\n",
       "    </tr>\n",
       "  </tbody>\n",
       "</table>\n",
       "</div>"
      ],
      "text/plain": [
       "                Overall MLE   Male MLE  Female MLE\n",
       "TaxonClass                                        \n",
       "Chondrichthyes    16.400000  17.050000   14.200000\n",
       "Mammalia          14.711429  14.116860   15.108140\n",
       "Aves              12.202419  12.940650   11.873387\n",
       "Reptilia          11.628571  11.980952   11.319048\n",
       "Amphibia           5.366667   5.533333    5.183333\n",
       "Arachnida               NaN        NaN   17.200000"
      ]
     },
     "execution_count": 234,
     "metadata": {},
     "output_type": "execute_result"
    }
   ],
   "source": [
    "df.groupby( ['TaxonClass'] ).mean().sort_values('Overall MLE', ascending=False)"
   ]
  },
  {
   "cell_type": "markdown",
   "metadata": {},
   "source": [
    "This statistical analysis groups the animals by their taxonomy class and sorts the values by their female median life expectancy in descending order."
   ]
  },
  {
   "cell_type": "code",
   "execution_count": null,
   "metadata": {},
   "outputs": [
    {
     "data": {
      "text/html": [
       "<div>\n",
       "<style scoped>\n",
       "    .dataframe tbody tr th:only-of-type {\n",
       "        vertical-align: middle;\n",
       "    }\n",
       "\n",
       "    .dataframe tbody tr th {\n",
       "        vertical-align: top;\n",
       "    }\n",
       "\n",
       "    .dataframe thead th {\n",
       "        text-align: right;\n",
       "    }\n",
       "</style>\n",
       "<table border=\"1\" class=\"dataframe\">\n",
       "  <thead>\n",
       "    <tr style=\"text-align: right;\">\n",
       "      <th></th>\n",
       "      <th>Female MLE</th>\n",
       "    </tr>\n",
       "    <tr>\n",
       "      <th>TaxonClass</th>\n",
       "      <th></th>\n",
       "    </tr>\n",
       "  </thead>\n",
       "  <tbody>\n",
       "    <tr>\n",
       "      <th>Arachnida</th>\n",
       "      <td>17.200000</td>\n",
       "    </tr>\n",
       "    <tr>\n",
       "      <th>Mammalia</th>\n",
       "      <td>15.108140</td>\n",
       "    </tr>\n",
       "    <tr>\n",
       "      <th>Chondrichthyes</th>\n",
       "      <td>14.200000</td>\n",
       "    </tr>\n",
       "    <tr>\n",
       "      <th>Aves</th>\n",
       "      <td>11.873387</td>\n",
       "    </tr>\n",
       "    <tr>\n",
       "      <th>Reptilia</th>\n",
       "      <td>11.319048</td>\n",
       "    </tr>\n",
       "    <tr>\n",
       "      <th>Amphibia</th>\n",
       "      <td>5.183333</td>\n",
       "    </tr>\n",
       "  </tbody>\n",
       "</table>\n",
       "</div>"
      ],
      "text/plain": [
       "                Female MLE\n",
       "TaxonClass                \n",
       "Arachnida        17.200000\n",
       "Mammalia         15.108140\n",
       "Chondrichthyes   14.200000\n",
       "Aves             11.873387\n",
       "Reptilia         11.319048\n",
       "Amphibia          5.183333"
      ]
     },
     "execution_count": 235,
     "metadata": {},
     "output_type": "execute_result"
    }
   ],
   "source": [
    "df2 = df2[ ['Species Common Name', 'Female MLE', 'TaxonClass'] ]\n",
    "\n",
    "df2.groupby( ['TaxonClass'] ).mean().sort_values('Female MLE', ascending=False)"
   ]
  },
  {
   "cell_type": "markdown",
   "metadata": {},
   "source": [
    "## Data visualization\n",
    "In this section, you will create a few **visualizations** that show some of the insights you have gathered from this data.\n",
    "- Create at least 5 different visualizations, where each visualization shows different insights into the data.\n",
    "- Use at least 3 different visualization types (e.g. bar charts, line charts, stacked area charts, pie charts, etc)\n",
    "- Create a Markdown cell and a Code cell for each, where you explain and show the visualizations, respectively.\n",
    "- Create as many additional cells as you need to prepare the data for the visualizations."
   ]
  },
  {
   "cell_type": "markdown",
   "metadata": {},
   "source": [
    "I created a histogram that shows the overall median life expectancy and the number of species that have that specific median life expectancy."
   ]
  },
  {
   "cell_type": "code",
   "execution_count": null,
   "metadata": {},
   "outputs": [
    {
     "data": {
      "image/png": "[encoded data removed]",
      "text/plain": [
       "<Figure size 432x288 with 1 Axes>"
      ]
     },
     "metadata": {
      "needs_background": "light"
     },
     "output_type": "display_data"
    }
   ],
   "source": [
    "df = pd.read_csv('data/data.csv')\n",
    "bins = [4, 8, 12, 16, 20, 24, 28, 32, 36, 40, 44, 48, 52]\n",
    "\n",
    "plt.hist(df['Overall MLE'], bins = bins)\n",
    "plt.ylabel('Number of species')\n",
    "plt.xlabel('Overall Median Life Expectancy')\n",
    "plt.title('Distribution of Median Life Expectancy across species')\n",
    "plt.show()"
   ]
  },
  {
   "cell_type": "markdown",
   "metadata": {},
   "source": [
    "This is a histogram that compares the female and male median life expectancy."
   ]
  },
  {
   "cell_type": "code",
   "execution_count": null,
   "metadata": {},
   "outputs": [
    {
     "data": {
      "image/png": "[encoded data removed]",
      "text/plain": [
       "<Figure size 432x288 with 1 Axes>"
      ]
     },
     "metadata": {
      "needs_background": "light"
     },
     "output_type": "display_data"
    }
   ],
   "source": [
    "df = pd.read_csv('data/data.csv')\n",
    "bins = [4, 8, 12, 16, 20, 24, 28, 32, 36, 40, 44, 48, 52]\n",
    "plt.hist(df['Male MLE'], bins = bins, alpha=0.3)\n",
    "plt.hist(df['Female MLE'], bins = bins, alpha=0.3)\n",
    "\n",
    "plt.ylabel('Number of species')\n",
    "plt.xlabel('Median Life Expectancy')\n",
    "plt.title('Distribution of Female Median Life Expectancy across species')\n",
    "plt.show()"
   ]
  },
  {
   "cell_type": "markdown",
   "metadata": {},
   "source": [
    "This is a pie chart that compares the amount of species across the taxonomy classes."
   ]
  },
  {
   "cell_type": "code",
   "execution_count": null,
   "metadata": {},
   "outputs": [
    {
     "data": {
      "image/png": "[encoded data removed]",
      "text/plain": [
       "<Figure size 432x288 with 1 Axes>"
      ]
     },
     "metadata": {},
     "output_type": "display_data"
    }
   ],
   "source": [
    "df3 = pd.read_csv('data/data.csv')\n",
    "df3 = df3[ ['TaxonClass'] ]\n",
    "\n",
    "mammalia = df.loc[df['TaxonClass'] == 'Mammalia'].count()[0]\n",
    "chondrichthyes = df.loc[df['TaxonClass'] == 'Chondrichthyes'].count()[0]\n",
    "arachnida = df.loc[df['TaxonClass'] == 'Arachnida'].count()[0]\n",
    "aves = df.loc[df['TaxonClass'] == 'Aves'].count()[0]\n",
    "reptilia = df.loc[df['TaxonClass'] == 'Reptilia'].count()[0]\n",
    "amphibia = df.loc[df['TaxonClass'] == 'Amphibia'].count()[0]\n",
    "\n",
    "labels = ['mammalia', 'chondrichthyes', 'aves', 'arachnida', 'reptilia', 'amphibia']\n",
    "explode = (.1, .1, .1, .1, .1, .1)\n",
    "\n",
    "plt.pie([mammalia, chondrichthyes, aves, arachnida, reptilia, amphibia], labels = labels, autopct = '%.2f %%', explode = explode)\n",
    "plt.show()"
   ]
  },
  {
   "cell_type": "markdown",
   "metadata": {},
   "source": [
    "This is a scattered plot that compares the male median life expectancy with the overall median life expectancy."
   ]
  },
  {
   "cell_type": "code",
   "execution_count": null,
   "metadata": {},
   "outputs": [
    {
     "data": {
      "text/plain": [
       "<AxesSubplot:xlabel='Overall MLE', ylabel='Male MLE'>"
      ]
     },
     "execution_count": 239,
     "metadata": {},
     "output_type": "execute_result"
    },
    {
     "data": {
      "image/png": "[encoded data removed]",
      "text/plain": [
       "<Figure size 432x288 with 1 Axes>"
      ]
     },
     "metadata": {
      "needs_background": "light"
     },
     "output_type": "display_data"
    }
   ],
   "source": [
    "df4 = pd.read_csv('data/data.csv')\n",
    "\n",
    "df4.plot.scatter(x='Overall MLE', y='Male MLE')\n"
   ]
  },
  {
   "cell_type": "markdown",
   "metadata": {},
   "source": [
    "This is a scattered plot that compares the female median life expectancy with the overall median life expectancy."
   ]
  },
  {
   "cell_type": "code",
   "execution_count": null,
   "metadata": {},
   "outputs": [
    {
     "data": {
      "text/plain": [
       "<AxesSubplot:xlabel='Overall MLE', ylabel='Female MLE'>"
      ]
     },
     "execution_count": 240,
     "metadata": {},
     "output_type": "execute_result"
    },
    {
     "data": {
      "image/png": "[encoded data removed]",
      "text/plain": [
       "<Figure size 432x288 with 1 Axes>"
      ]
     },
     "metadata": {
      "needs_background": "light"
     },
     "output_type": "display_data"
    }
   ],
   "source": [
    "df4 = pd.read_csv('data/data.csv')\n",
    "\n",
    "df4.plot.scatter(x='Overall MLE', y='Female MLE')"
   ]
  }
 ],
 "metadata": {
  "kernelspec": {
   "display_name": "Python 3",
   "language": "python",
   "name": "python3"
  },
  "language_info": {
   "codemirror_mode": {
    "name": "ipython",
    "version": 3
   },
   "file_extension": ".py",
   "mimetype": "text/x-python",
   "name": "python",
   "nbconvert_exporter": "python",
   "pygments_lexer": "ipython3",
   "version": "3.8.8"
  }
 },
 "nbformat": 4,
 "nbformat_minor": 4
}
